{
 "cells": [
  {
   "cell_type": "markdown",
   "id": "634f7bbe",
   "metadata": {},
   "source": [
    "# Análise dos focos de calor de 1998 a 2019"
   ]
  },
  {
   "cell_type": "markdown",
   "id": "f8734082",
   "metadata": {},
   "source": [
    "Os focos de calor detectados nas áreas de risco entram em um sistema de alerta que os classifica de acordo com a persistência, a localidade e o risco que oferecem."
   ]
  },
  {
   "cell_type": "code",
   "execution_count": 12,
   "id": "b2e2dbfd",
   "metadata": {},
   "outputs": [],
   "source": [
    "#Importando as bibliotecas\n",
    "import pandas as pd"
   ]
  },
  {
   "cell_type": "code",
   "execution_count": 13,
   "id": "90c97a01",
   "metadata": {},
   "outputs": [
    {
     "data": {
      "text/html": [
       "<div>\n",
       "<style scoped>\n",
       "    .dataframe tbody tr th:only-of-type {\n",
       "        vertical-align: middle;\n",
       "    }\n",
       "\n",
       "    .dataframe tbody tr th {\n",
       "        vertical-align: top;\n",
       "    }\n",
       "\n",
       "    .dataframe thead th {\n",
       "        text-align: right;\n",
       "    }\n",
       "</style>\n",
       "<table border=\"1\" class=\"dataframe\">\n",
       "  <thead>\n",
       "    <tr style=\"text-align: right;\">\n",
       "      <th></th>\n",
       "      <th>Ano</th>\n",
       "      <th>Mês</th>\n",
       "      <th>Número</th>\n",
       "      <th>Período</th>\n",
       "    </tr>\n",
       "  </thead>\n",
       "  <tbody>\n",
       "    <tr>\n",
       "      <th>0</th>\n",
       "      <td>1998</td>\n",
       "      <td>Janeiro</td>\n",
       "      <td>0</td>\n",
       "      <td>1998-01-01 00:00:00</td>\n",
       "    </tr>\n",
       "    <tr>\n",
       "      <th>1</th>\n",
       "      <td>1999</td>\n",
       "      <td>Janeiro</td>\n",
       "      <td>1081</td>\n",
       "      <td>1999-01-01 00:00:00</td>\n",
       "    </tr>\n",
       "    <tr>\n",
       "      <th>2</th>\n",
       "      <td>2000</td>\n",
       "      <td>Janeiro</td>\n",
       "      <td>778</td>\n",
       "      <td>2000-01-01 00:00:00</td>\n",
       "    </tr>\n",
       "    <tr>\n",
       "      <th>3</th>\n",
       "      <td>2001</td>\n",
       "      <td>Janeiro</td>\n",
       "      <td>547</td>\n",
       "      <td>2001-01-01 00:00:00</td>\n",
       "    </tr>\n",
       "    <tr>\n",
       "      <th>4</th>\n",
       "      <td>2002</td>\n",
       "      <td>Janeiro</td>\n",
       "      <td>1653</td>\n",
       "      <td>2002-01-01 00:00:00</td>\n",
       "    </tr>\n",
       "  </tbody>\n",
       "</table>\n",
       "</div>"
      ],
      "text/plain": [
       "    Ano      Mês  Número              Período\n",
       "0  1998  Janeiro       0  1998-01-01 00:00:00\n",
       "1  1999  Janeiro    1081  1999-01-01 00:00:00\n",
       "2  2000  Janeiro     778  2000-01-01 00:00:00\n",
       "3  2001  Janeiro     547  2001-01-01 00:00:00\n",
       "4  2002  Janeiro    1653  2002-01-01 00:00:00"
      ]
     },
     "execution_count": 13,
     "metadata": {},
     "output_type": "execute_result"
    }
   ],
   "source": [
    "df = pd.read_excel('focos_calor_1998_2019.xlsx')\n",
    "df.head()"
   ]
  },
  {
   "cell_type": "code",
   "execution_count": 14,
   "id": "90e9123c",
   "metadata": {},
   "outputs": [
    {
     "data": {
      "text/plain": [
       "(325, 4)"
      ]
     },
     "execution_count": 14,
     "metadata": {},
     "output_type": "execute_result"
    }
   ],
   "source": [
    "#linhas e colunas\n",
    "df.shape"
   ]
  },
  {
   "cell_type": "code",
   "execution_count": 15,
   "id": "99835eb9",
   "metadata": {},
   "outputs": [
    {
     "name": "stdout",
     "output_type": "stream",
     "text": [
      "<class 'pandas.core.frame.DataFrame'>\n",
      "RangeIndex: 325 entries, 0 to 324\n",
      "Data columns (total 4 columns):\n",
      " #   Column   Non-Null Count  Dtype \n",
      "---  ------   --------------  ----- \n",
      " 0   Ano      325 non-null    object\n",
      " 1   Mês      325 non-null    object\n",
      " 2   Número   325 non-null    int64 \n",
      " 3   Período  325 non-null    object\n",
      "dtypes: int64(1), object(3)\n",
      "memory usage: 10.3+ KB\n"
     ]
    }
   ],
   "source": [
    "#Verificando quantidades e tipos\n",
    "df.info()"
   ]
  },
  {
   "cell_type": "markdown",
   "id": "75e9bb24",
   "metadata": {},
   "source": [
    "# Análise inicial"
   ]
  },
  {
   "cell_type": "code",
   "execution_count": 16,
   "id": "3d898fab",
   "metadata": {},
   "outputs": [
    {
     "data": {
      "text/plain": [
       "394004"
      ]
     },
     "execution_count": 16,
     "metadata": {},
     "output_type": "execute_result"
    }
   ],
   "source": [
    "#Qual a maior quantidade de focos de calor\n",
    "df['Número'].max()"
   ]
  },
  {
   "cell_type": "code",
   "execution_count": 17,
   "id": "98f20357",
   "metadata": {},
   "outputs": [
    {
     "data": {
      "text/html": [
       "<div>\n",
       "<style scoped>\n",
       "    .dataframe tbody tr th:only-of-type {\n",
       "        vertical-align: middle;\n",
       "    }\n",
       "\n",
       "    .dataframe tbody tr th {\n",
       "        vertical-align: top;\n",
       "    }\n",
       "\n",
       "    .dataframe thead th {\n",
       "        text-align: right;\n",
       "    }\n",
       "</style>\n",
       "<table border=\"1\" class=\"dataframe\">\n",
       "  <thead>\n",
       "    <tr style=\"text-align: right;\">\n",
       "      <th></th>\n",
       "      <th>Ano</th>\n",
       "      <th>Mês</th>\n",
       "      <th>Número</th>\n",
       "      <th>Período</th>\n",
       "    </tr>\n",
       "  </thead>\n",
       "  <tbody>\n",
       "    <tr>\n",
       "      <th>309</th>\n",
       "      <td>2007</td>\n",
       "      <td>Total</td>\n",
       "      <td>394004</td>\n",
       "      <td>2007-12-01 00:00:00</td>\n",
       "    </tr>\n",
       "    <tr>\n",
       "      <th>322</th>\n",
       "      <td>Máximo</td>\n",
       "      <td>Total</td>\n",
       "      <td>394004</td>\n",
       "      <td>Máximo</td>\n",
       "    </tr>\n",
       "  </tbody>\n",
       "</table>\n",
       "</div>"
      ],
      "text/plain": [
       "        Ano    Mês  Número              Período\n",
       "309    2007  Total  394004  2007-12-01 00:00:00\n",
       "322  Máximo  Total  394004               Máximo"
      ]
     },
     "execution_count": 17,
     "metadata": {},
     "output_type": "execute_result"
    }
   ],
   "source": [
    "#Qual mês/ano teve a maior quantidade de focos de calor\n",
    "df[df['Número'] == df['Número'].max()]"
   ]
  },
  {
   "cell_type": "markdown",
   "id": "26983a74",
   "metadata": {},
   "source": [
    "# Eliminando linhas indesejáveis"
   ]
  },
  {
   "cell_type": "code",
   "execution_count": 18,
   "id": "2145a20b",
   "metadata": {},
   "outputs": [],
   "source": [
    "#Vamos manter todas as linhas onde Mês !='Total'\n",
    "df = df[df['Mês'] != 'Total']"
   ]
  },
  {
   "cell_type": "code",
   "execution_count": 19,
   "id": "ca830a16",
   "metadata": {},
   "outputs": [
    {
     "data": {
      "text/html": [
       "<div>\n",
       "<style scoped>\n",
       "    .dataframe tbody tr th:only-of-type {\n",
       "        vertical-align: middle;\n",
       "    }\n",
       "\n",
       "    .dataframe tbody tr th {\n",
       "        vertical-align: top;\n",
       "    }\n",
       "\n",
       "    .dataframe thead th {\n",
       "        text-align: right;\n",
       "    }\n",
       "</style>\n",
       "<table border=\"1\" class=\"dataframe\">\n",
       "  <thead>\n",
       "    <tr style=\"text-align: right;\">\n",
       "      <th></th>\n",
       "      <th>Ano</th>\n",
       "      <th>Mês</th>\n",
       "      <th>Número</th>\n",
       "      <th>Período</th>\n",
       "    </tr>\n",
       "  </thead>\n",
       "  <tbody>\n",
       "    <tr>\n",
       "      <th>209</th>\n",
       "      <td>2007</td>\n",
       "      <td>Setembro</td>\n",
       "      <td>141236</td>\n",
       "      <td>2007-09-01 00:00:00</td>\n",
       "    </tr>\n",
       "    <tr>\n",
       "      <th>222</th>\n",
       "      <td>Máximo</td>\n",
       "      <td>Setembro</td>\n",
       "      <td>141236</td>\n",
       "      <td>Máximo</td>\n",
       "    </tr>\n",
       "  </tbody>\n",
       "</table>\n",
       "</div>"
      ],
      "text/plain": [
       "        Ano       Mês  Número              Período\n",
       "209    2007  Setembro  141236  2007-09-01 00:00:00\n",
       "222  Máximo  Setembro  141236               Máximo"
      ]
     },
     "execution_count": 19,
     "metadata": {},
     "output_type": "execute_result"
    }
   ],
   "source": [
    "#Qual mês/ano teve a maior quantidade de focos de calor\n",
    "df[df['Número'] == df['Número'].max()]"
   ]
  },
  {
   "cell_type": "code",
   "execution_count": 20,
   "id": "db04bfa4",
   "metadata": {},
   "outputs": [],
   "source": [
    "#Vamos manter todas as linhas onde Ano !='Máximo'\n",
    "df = df[df['Ano'] != 'Máximo']\n",
    "\n",
    "#Vamos manter todas as linhas onde Ano !='Média'\n",
    "df = df[df['Ano'] != 'Média']\n",
    "\n",
    "#Vamos manter todas as linhas onde Ano !='Mínimo'\n",
    "df = df[df['Ano'] != 'Mínimo']"
   ]
  },
  {
   "cell_type": "code",
   "execution_count": 21,
   "id": "17804507",
   "metadata": {},
   "outputs": [
    {
     "data": {
      "text/html": [
       "<div>\n",
       "<style scoped>\n",
       "    .dataframe tbody tr th:only-of-type {\n",
       "        vertical-align: middle;\n",
       "    }\n",
       "\n",
       "    .dataframe tbody tr th {\n",
       "        vertical-align: top;\n",
       "    }\n",
       "\n",
       "    .dataframe thead th {\n",
       "        text-align: right;\n",
       "    }\n",
       "</style>\n",
       "<table border=\"1\" class=\"dataframe\">\n",
       "  <thead>\n",
       "    <tr style=\"text-align: right;\">\n",
       "      <th></th>\n",
       "      <th>Ano</th>\n",
       "      <th>Mês</th>\n",
       "      <th>Número</th>\n",
       "      <th>Período</th>\n",
       "    </tr>\n",
       "  </thead>\n",
       "  <tbody>\n",
       "    <tr>\n",
       "      <th>209</th>\n",
       "      <td>2007</td>\n",
       "      <td>Setembro</td>\n",
       "      <td>141236</td>\n",
       "      <td>2007-09-01 00:00:00</td>\n",
       "    </tr>\n",
       "  </tbody>\n",
       "</table>\n",
       "</div>"
      ],
      "text/plain": [
       "      Ano       Mês  Número              Período\n",
       "209  2007  Setembro  141236  2007-09-01 00:00:00"
      ]
     },
     "execution_count": 21,
     "metadata": {},
     "output_type": "execute_result"
    }
   ],
   "source": [
    "#Qual mês/ano teve a maior quantidade de focos de calor\n",
    "df[df['Número'] == df['Número'].max()]"
   ]
  },
  {
   "cell_type": "code",
   "execution_count": 22,
   "id": "a79d6538",
   "metadata": {},
   "outputs": [],
   "source": [
    "#Selecionando somente os dados de 2007\n",
    "df_2007 = df[df['Ano'] == 2007]"
   ]
  },
  {
   "cell_type": "code",
   "execution_count": 24,
   "id": "93a2c02e",
   "metadata": {},
   "outputs": [
    {
     "data": {
      "text/plain": [
       "<AxesSubplot:xlabel='Mês'>"
      ]
     },
     "execution_count": 24,
     "metadata": {},
     "output_type": "execute_result"
    },
    {
     "data": {
      "image/png": "[encoded data removed]",
      "text/plain": [
       "<Figure size 432x288 with 1 Axes>"
      ]
     },
     "metadata": {
      "needs_background": "light"
     },
     "output_type": "display_data"
    }
   ],
   "source": [
    "#Gráfico de linha\n",
    "df_2007.plot(x='Mês', y='Número')"
   ]
  },
  {
   "cell_type": "code",
   "execution_count": 26,
   "id": "28269671",
   "metadata": {},
   "outputs": [
    {
     "data": {
      "text/plain": [
       "<AxesSubplot:xlabel='Mês'>"
      ]
     },
     "execution_count": 26,
     "metadata": {},
     "output_type": "execute_result"
    },
    {
     "data": {
      "image/png": "[encoded data removed]",
      "text/plain": [
       "<Figure size 432x288 with 1 Axes>"
      ]
     },
     "metadata": {
      "needs_background": "light"
     },
     "output_type": "display_data"
    }
   ],
   "source": [
    "#Fráfico de barras\n",
    "df_2007.plot.bar(x='Mês', y='Número')"
   ]
  },
  {
   "cell_type": "markdown",
   "id": "d14d36f7",
   "metadata": {},
   "source": [
    "# Gráfico com os focos de calor de 2016 a 2018"
   ]
  },
  {
   "cell_type": "code",
   "execution_count": 27,
   "id": "bcdf94e4",
   "metadata": {},
   "outputs": [],
   "source": [
    "import matplotlib.pyplot as plt"
   ]
  },
  {
   "cell_type": "code",
   "execution_count": 35,
   "id": "53768d7f",
   "metadata": {},
   "outputs": [
    {
     "data": {
      "text/plain": [
       "([0, 1, 2, 3, 4, 5, 6, 7, 8, 9, 10, 11],\n",
       " [Text(0, 0, ''),\n",
       "  Text(0, 0, ''),\n",
       "  Text(0, 0, ''),\n",
       "  Text(0, 0, ''),\n",
       "  Text(0, 0, ''),\n",
       "  Text(0, 0, ''),\n",
       "  Text(0, 0, ''),\n",
       "  Text(0, 0, ''),\n",
       "  Text(0, 0, ''),\n",
       "  Text(0, 0, ''),\n",
       "  Text(0, 0, ''),\n",
       "  Text(0, 0, '')])"
      ]
     },
     "execution_count": 35,
     "metadata": {},
     "output_type": "execute_result"
    },
    {
     "data": {
      "image/png": "[encoded data removed]",
      "text/plain": [
       "<Figure size 432x288 with 1 Axes>"
      ]
     },
     "metadata": {
      "needs_background": "light"
     },
     "output_type": "display_data"
    }
   ],
   "source": [
    "#Vamos fazer um gráfico por ano, então precisamos selecionar os dados\n",
    "\n",
    "#2016\n",
    "plt.plot('Mês', 'Número', data=df[df['Ano'] == 2016], label='2016')\n",
    "\n",
    "#2017\n",
    "plt.plot('Mês', 'Número', data=df[df['Ano'] == 2017], label='2017')\n",
    "\n",
    "#2018\n",
    "plt.plot('Mês', 'Número', data=df[df['Ano'] == 2018], label='2018')\n",
    "\n",
    "#Exibir legendas\n",
    "plt.legend()\n",
    "\n",
    "# Título \n",
    "plt.title('Focos de calor - 2016 a 2018')\n",
    "\n",
    "#Nome dos eixos\n",
    "plt.xlabel('Mês')\n",
    "plt.ylabel('Quantidade')\n",
    "\n",
    "#Melhorando o eixo x\n",
    "plt.xticks(rotation = 45)"
   ]
  },
  {
   "cell_type": "markdown",
   "id": "389bb893",
   "metadata": {},
   "source": [
    "# Trabalhando com biblioteca mais específica para gráficos"
   ]
  },
  {
   "cell_type": "code",
   "execution_count": 36,
   "id": "9d5f71f5",
   "metadata": {},
   "outputs": [],
   "source": [
    "import seaborn as sns"
   ]
  },
  {
   "cell_type": "code",
   "execution_count": 37,
   "id": "f1eba9e6",
   "metadata": {},
   "outputs": [],
   "source": [
    "#Repetindo o gráfico de 2007"
   ]
  },
  {
   "cell_type": "code",
   "execution_count": 39,
   "id": "97d405fd",
   "metadata": {},
   "outputs": [
    {
     "data": {
      "text/plain": [
       "(array([ 0,  1,  2,  3,  4,  5,  6,  7,  8,  9, 10, 11]),\n",
       " [Text(0, 0, 'Janeiro'),\n",
       "  Text(1, 0, 'Fevereiro'),\n",
       "  Text(2, 0, 'Março'),\n",
       "  Text(3, 0, 'Abril'),\n",
       "  Text(4, 0, 'Maio'),\n",
       "  Text(5, 0, 'Junho'),\n",
       "  Text(6, 0, 'Julho'),\n",
       "  Text(7, 0, 'Agosto'),\n",
       "  Text(8, 0, 'Setembro'),\n",
       "  Text(9, 0, 'Outubro'),\n",
       "  Text(10, 0, 'Novembro'),\n",
       "  Text(11, 0, 'Dezembro')])"
      ]
     },
     "execution_count": 39,
     "metadata": {},
     "output_type": "execute_result"
    },
    {
     "data": {
      "image/png": "[encoded data removed]",
      "text/plain": [
       "<Figure size 432x288 with 1 Axes>"
      ]
     },
     "metadata": {
      "needs_background": "light"
     },
     "output_type": "display_data"
    }
   ],
   "source": [
    "sns.barplot(x='Mês', y='Número', data=df_2007)\n",
    "\n",
    "# Título \n",
    "plt.title('Focos de calor - 2017')\n",
    "\n",
    "#Nome dos eixos\n",
    "plt.xlabel('Mês')\n",
    "plt.ylabel('Quantidade')\n",
    "\n",
    "#Melhorando o eixo x\n",
    "plt.xticks(rotation = 45)"
   ]
  },
  {
   "cell_type": "code",
   "execution_count": null,
   "id": "417b645c",
   "metadata": {},
   "outputs": [],
   "source": []
  }
 ],
 "metadata": {
  "kernelspec": {
   "display_name": "Python 3 (ipykernel)",
   "language": "python",
   "name": "python3"
  },
  "language_info": {
   "codemirror_mode": {
    "name": "ipython",
    "version": 3
   },
   "file_extension": ".py",
   "mimetype": "text/x-python",
   "name": "python",
   "nbconvert_exporter": "python",
   "pygments_lexer": "ipython3",
   "version": "3.9.7"
  }
 },
 "nbformat": 4,
 "nbformat_minor": 5
}
